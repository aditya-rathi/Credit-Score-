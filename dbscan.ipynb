{
 "cells": [
  {
   "cell_type": "code",
   "execution_count": 2,
   "metadata": {},
   "outputs": [],
   "source": [
    "import pandas as pd\n",
    "from sklearn.cluster import DBSCAN\n",
    "from sklearn.decomposition import PCA\n",
    "import matplotlib.pyplot as plt"
   ]
  },
  {
   "cell_type": "code",
   "execution_count": 3,
   "metadata": {},
   "outputs": [
    {
     "name": "stdout",
     "output_type": "stream",
     "text": [
      "[0.94231062 0.05605679]\n",
      "[-1 -1 -1 ... -1 -1 -1]\n",
      "None\n",
      "           0     1     2     3     4     5     6     7     8     9     ...  \\\n",
      "card          1     1     1     1     1     1     1     1     1     1  ...   \n",
      "Unnamed 0    -1    -1    -1    -1    -1    -1    -1    -1    -1    -1  ...   \n",
      "\n",
      "           1309  1310  1311  1312  1313  1314  1315  1316  1317  1318  \n",
      "card          1     1     0     0     0     1     0     1     1     1  \n",
      "Unnamed 0    -1    -1    -1    -1    -1    -1    -1    -1    -1    -1  \n",
      "\n",
      "[2 rows x 1319 columns]\n"
     ]
    },
    {
     "data": {
      "image/png": "[encoded data removed]",
      "text/plain": [
       "<Figure size 432x288 with 1 Axes>"
      ]
     },
     "metadata": {
      "needs_background": "light"
     },
     "output_type": "display_data"
    }
   ],
   "source": [
    "data = pd.read_csv('eco_analysis_cleaned.csv')\n",
    "X = data.iloc[:,1:]\n",
    "y = data.iloc[:,0]\n",
    "pca = PCA(n_components=2)\n",
    "X_Red=pca.fit_transform(X)\n",
    "print(pca.explained_variance_ratio_)\n",
    "plt.scatter(X_Red[:,0],X_Red[:,1])\n",
    "clustering = DBSCAN(eps=10,min_samples = 100)\n",
    "clustering.fit(X.to_numpy())\n",
    "print(print(clustering.labels_))\n",
    "y_pred = clustering.labels_\n",
    "df = pd.DataFrame([y,y_pred])\n",
    "print(df)"
   ]
  }
 ],
 "metadata": {
  "interpreter": {
   "hash": "ce35d544fae502b02c069244ca77674f45b3f587bd3b09acbcff8be9ce86a408"
  },
  "kernelspec": {
   "display_name": "Python 3.9.7 64-bit ('mlai': conda)",
   "name": "python3"
  },
  "language_info": {
   "codemirror_mode": {
    "name": "ipython",
    "version": 3
   },
   "file_extension": ".py",
   "mimetype": "text/x-python",
   "name": "python",
   "nbconvert_exporter": "python",
   "pygments_lexer": "ipython3",
   "version": "3.9.7"
  },
  "orig_nbformat": 4
 },
 "nbformat": 4,
 "nbformat_minor": 2
}
